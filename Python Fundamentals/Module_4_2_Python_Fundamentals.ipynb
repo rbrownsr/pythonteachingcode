{
 "cells": [
  {
   "cell_type": "markdown",
   "metadata": {},
   "source": [
    "# 2-4.2 Intro Python\n",
    "## Working with Files\n",
    "4.1 File import in Jupyter Notebooks  \n",
    "4.1 File **`open()`** and **`.read()`**  \n",
    "4.2 **File Read as a list with `.readlines()`**  \n",
    "4.2 **File Closing to free resources with `.close()`**  \n",
    "4.3 Remove characters using **`.strip()`**  \n",
    "4.3 File Read a line at a time with **`.readline()`**   \n",
    "4.4 File **`.write()`**  with **`.seek()`**  \n",
    "4.4 File append mode \n",
    "\n",
    "----- \n",
    "\n",
    "><font size=\"5\" color=\"#00A0B2\"  face=\"verdana\"> <B>Student will be able to</B></font>  \n",
    "4.1 Import files in Jupyter Notebooks using the curl command  \n",
    "4.1 **`open()`** and **`.read()`** local files in memory   \n",
    "4.1 **`.read(`)** a specific number of characters  \n",
    "4.2 **Use `.readlines()` to read text from files as a list of lines**  \n",
    "4.2 **Use `.close` to free system resources**  \n",
    "4.3 Use **`.readline()`** to read data from file a line at a time  \n",
    "4.3 Use **`.strip()`** to remove new line characters  \n",
    "4.4 **`.write()`** data to a new local file\n",
    "4.4 Use **`.seek()`** to set file read or write location  \n",
    "4.4 Use file append mode"
   ]
  },
  {
   "cell_type": "markdown",
   "metadata": {},
   "source": [
    "# &nbsp;\n",
    "<font size=\"6\" color=\"#00A0B2\"  face=\"verdana\"> <B>Concepts</B></font>\n",
    "## `.readlines()`\n",
    "[![view video](https://iajupyterprodblobs.blob.core.windows.net/imagecontainer/common/play_video.png)]( http://edxinteractivepage.blob.core.windows.net/edxpages/f7cff1a7-5601-48a1-95a6-fd1fdfabd20e.html?details=[{\"src\":\"http://jupyternootbookwams.streaming.mediaservices.windows.net/0cd43d02-5eac-40b5-ba2d-97f078415ddd/Unit2_Section4.2a-Readlines-Open_Text_as_List.ism/manifest\",\"type\":\"application/vnd.ms-sstr+xml\"}],[{\"src\":\"http://jupyternootbookwams.streaming.mediaservices.windows.net/0cd43d02-5eac-40b5-ba2d-97f078415ddd/Unit2_Section4.2a-Readlines-Open_Text_as_List.vtt\",\"srclang\":\"en\",\"kind\":\"subtitles\",\"label\":\"english\"}])\n",
    "\n",
    "### File read as a list with .readlines() \n",
    "converts the lines of a file into a **list** of strings\n",
    "\n",
    "```python\n",
    "poem_lines = poem1.readlines()\n",
    "```"
   ]
  },
  {
   "cell_type": "markdown",
   "metadata": {},
   "source": [
    "# &nbsp;\n",
    "<font size=\"6\" color=\"#00A0B2\"  face=\"verdana\"> <B>Examples</B></font>"
   ]
  },
  {
   "cell_type": "code",
   "execution_count": 1,
   "metadata": {
    "scrolled": false
   },
   "outputs": [
    {
     "name": "stdout",
     "output_type": "stream",
     "text": [
      "  % Total    % Received % Xferd  Average Speed   Time    Time     Time  Current\n",
      "                                 Dload  Upload   Total   Spent    Left  Speed\n",
      "100    56  100    56    0     0    184      0 --:--:-- --:--:-- --:--:--   184\n"
     ]
    }
   ],
   "source": [
    "# [ ] Run to download file to notebook\n",
    "!curl https://raw.githubusercontent.com/MicrosoftLearning/intropython/master/poem1.txt -o poem1.txt"
   ]
  },
  {
   "cell_type": "code",
   "execution_count": 2,
   "metadata": {},
   "outputs": [
    {
     "data": {
      "text/plain": [
       "['Loops I repeat\\n',\n",
       " 'loops\\n',\n",
       " 'loops\\n',\n",
       " 'loops\\n',\n",
       " 'I repeat\\n',\n",
       " 'until I\\n',\n",
       " 'break\\n']"
      ]
     },
     "execution_count": 2,
     "metadata": {},
     "output_type": "execute_result"
    }
   ],
   "source": [
    "# [ ] review and run example\n",
    "# open address to file\n",
    "poem1 = open('poem1.txt', 'r')\n",
    "\n",
    "# readlines and print as a list\n",
    "poem_lines = poem1.readlines()\n",
    "poem_lines"
   ]
  },
  {
   "cell_type": "code",
   "execution_count": 3,
   "metadata": {},
   "outputs": [
    {
     "name": "stdout",
     "output_type": "stream",
     "text": [
      "Loops I repeat\n",
      "\n",
      "loops\n",
      "\n",
      "loops\n",
      "\n",
      "loops\n",
      "\n",
      "I repeat\n",
      "\n",
      "until I\n",
      "\n",
      "break\n",
      "\n"
     ]
    }
   ],
   "source": [
    "# [ ] review and run example\n",
    "for line in poem_lines:\n",
    "    print(line)"
   ]
  },
  {
   "cell_type": "markdown",
   "metadata": {
    "collapsed": true
   },
   "source": [
    "# &nbsp;\n",
    "<font size=\"6\" color=\"#B24C00\"  face=\"verdana\"> <B>Task 1</B></font>\n",
    "\n",
    "## `.readlines()` \n",
    "### open the cities file as a list\n",
    "1. **Import a list of cities using curl**  \n",
    "  a. git the list from https://raw.githubusercontent.com/MicrosoftLearning/intropython/master/cities  \n",
    "  b. name the list cities.txt  \n",
    "2. **Open cities.txt in read mode using a variable: cities_file**  \n",
    "3. **Read cities_file as a list variable: cities_lines using `.readlines()`**\n",
    "4. **Print each line of cities_lines by iterating the list**"
   ]
  },
  {
   "cell_type": "code",
   "execution_count": 24,
   "metadata": {},
   "outputs": [
    {
     "name": "stdout",
     "output_type": "stream",
     "text": [
      "  % Total    % Received % Xferd  Average Speed   Time    Time     Time  Current\n",
      "                                 Dload  Upload   Total   Spent    Left  Speed\n",
      "100    56  100    56    0     0    224      0 --:--:-- --:--:-- --:--:--   225\n"
     ]
    }
   ],
   "source": [
    "# [ ] import cities\n",
    "!curl https://raw.githubusercontent.com/MicrosoftLearning/intropython/master/cities -o cities.txt"
   ]
  },
  {
   "cell_type": "code",
   "execution_count": 25,
   "metadata": {},
   "outputs": [
    {
     "data": {
      "text/plain": [
       "['Beijing\\n',\n",
       " 'Cairo\\n',\n",
       " 'London\\n',\n",
       " 'Nairobi\\n',\n",
       " 'New York City\\n',\n",
       " 'Sydney\\n',\n",
       " 'Tokyo\\n']"
      ]
     },
     "execution_count": 25,
     "metadata": {},
     "output_type": "execute_result"
    }
   ],
   "source": [
    "# [ ] open cities.txt as cities_file and read the file as a list: cities_lines\n",
    "cities = open('cities.txt', 'r')\n",
    "cities\n",
    "cities_lines = cities.readlines()\n",
    "cities_lines"
   ]
  },
  {
   "cell_type": "code",
   "execution_count": 19,
   "metadata": {},
   "outputs": [
    {
     "name": "stdout",
     "output_type": "stream",
     "text": [
      "Beijing\n",
      "\n",
      "Cairo\n",
      "\n",
      "London\n",
      "\n",
      "Nairobi\n",
      "\n",
      "New York City\n",
      "\n",
      "Sydney\n",
      "\n",
      "Tokyo\n",
      "\n"
     ]
    }
   ],
   "source": [
    "# [ ] use list iteration to print each city in cities_lines list\n",
    "\n",
    "for city in cities_lines:\n",
    "    print(city)"
   ]
  },
  {
   "cell_type": "markdown",
   "metadata": {},
   "source": [
    "# &nbsp;\n",
    "<font size=\"6\" color=\"#00A0B2\"  face=\"verdana\"> <B>Concepts</B></font>  \n",
    "\n",
    "## working with lists from .readlines()\n",
    "[![view video](https://iajupyterprodblobs.blob.core.windows.net/imagecontainer/common/play_video.png)]( http://edxinteractivepage.blob.core.windows.net/edxpages/f7cff1a7-5601-48a1-95a6-fd1fdfabd20e.html?details=[{\"src\":\"http://jupyternootbookwams.streaming.mediaservices.windows.net/ed9b1523-6d69-462c-b18c-01e5423c1e52/Unit2_Section4.2b-Readlines-Remove_Characters.ism/manifest\",\"type\":\"application/vnd.ms-sstr+xml\"}],[{\"src\":\"http://jupyternootbookwams.streaming.mediaservices.windows.net/ed9b1523-6d69-462c-b18c-01e5423c1e52/Unit2_Section4.2b-Readlines-Remove_Characters.vtt\",\"srclang\":\"en\",\"kind\":\"subtitles\",\"label\":\"english\"}])\n",
    "###  remove newline characters from lists created using .readlines()\n",
    "```python\n",
    "for line in poem_lines:\n",
    "    poem_lines[count] = line[:-1]\n",
    "    count += 1\n",
    "```\n",
    "**`line[:-1]`** sets the end point at the last character of the string, the result is the **`'\\n'`** (newline) character is omitted\n",
    "\n",
    "| list item | list item contents | \n",
    "|-----|-----|\n",
    "| poem_lines[0] | 'Loops I repeat\\n' |  \n",
    "| poem_lines[1] | 'loops\\n' |  \n",
    "| poem_lines[2] | 'loops\\n' | \n",
    "| poem_lines[3] | 'I repeat\\n' | \n",
    "|... | ... | "
   ]
  },
  {
   "cell_type": "markdown",
   "metadata": {},
   "source": [
    "### &nbsp;\n",
    "<font size=\"6\" color=\"#00A0B2\"  face=\"verdana\"> <B>Examples</B></font>  \n",
    "This example assumes that poem1.txt has been imported in 1st example above"
   ]
  },
  {
   "cell_type": "code",
   "execution_count": 20,
   "metadata": {},
   "outputs": [
    {
     "name": "stdout",
     "output_type": "stream",
     "text": [
      "['Loops I repeat\\n', 'loops\\n', 'loops\\n', 'loops\\n', 'I repeat\\n', 'until I\\n', 'break\\n']\n"
     ]
    }
   ],
   "source": [
    "# [ ] review and run examples\n",
    "# [ ] re-open file and read file as a list of strings\n",
    "poem1 = open('poem1.txt', 'r')\n",
    "poem_lines = poem1.readlines()\n",
    "print(poem_lines)"
   ]
  },
  {
   "cell_type": "code",
   "execution_count": 21,
   "metadata": {},
   "outputs": [
    {
     "name": "stdout",
     "output_type": "stream",
     "text": [
      "Loops I repeat\n",
      "\n",
      "loops\n",
      "\n",
      "loops\n",
      "\n",
      "loops\n",
      "\n",
      "I repeat\n",
      "\n",
      "until I\n",
      "\n",
      "break\n",
      "\n"
     ]
    }
   ],
   "source": [
    "# [ ] print each list item \n",
    "for line in poem_lines:\n",
    "    print(line)"
   ]
  },
  {
   "cell_type": "code",
   "execution_count": 22,
   "metadata": {},
   "outputs": [
    {
     "name": "stdout",
     "output_type": "stream",
     "text": [
      "['Loops I repeat', 'loops', 'loops', 'loops', 'I repeat', 'until I', 'break']\n"
     ]
    }
   ],
   "source": [
    "# [ ] remove the last character of each list item, which is \"\\n\"\n",
    "count = 0\n",
    "\n",
    "for line in poem_lines:\n",
    "    poem_lines[count] = line[:-1]\n",
    "    count += 1\n",
    "\n",
    "print(poem_lines)"
   ]
  },
  {
   "cell_type": "code",
   "execution_count": 23,
   "metadata": {},
   "outputs": [
    {
     "name": "stdout",
     "output_type": "stream",
     "text": [
      "Loops I repeat\n",
      "loops\n",
      "loops\n",
      "loops\n",
      "I repeat\n",
      "until I\n",
      "break\n"
     ]
    }
   ],
   "source": [
    "# [ ] print each list item \n",
    "for line in poem_lines:\n",
    "    print(line)"
   ]
  },
  {
   "cell_type": "markdown",
   "metadata": {
    "collapsed": true
   },
   "source": [
    "# &nbsp;\n",
    "<font size=\"6\" color=\"#B24C00\"  face=\"verdana\"> <B>Task 2</B></font>\n",
    "\n",
    "## remove newline characters from cities lists created using .readlines()\n",
    "- This task assumes that cites.txt has been imported in Task 1 above\n",
    "- In task 1, the cities were printed with a blank line between each city - this task removes the blank lines\n"
   ]
  },
  {
   "cell_type": "code",
   "execution_count": 32,
   "metadata": {},
   "outputs": [
    {
     "data": {
      "text/plain": [
       "['Beijing\\n',\n",
       " 'Cairo\\n',\n",
       " 'London\\n',\n",
       " 'Nairobi\\n',\n",
       " 'New York City\\n',\n",
       " 'Sydney\\n',\n",
       " 'Tokyo\\n']"
      ]
     },
     "execution_count": 32,
     "metadata": {},
     "output_type": "execute_result"
    }
   ],
   "source": [
    "# [ ] re-open file and read file as a list of strings \n",
    "# [ ] open cities.txt as cities_file and read the file as a list: cities_lines\n",
    "cities = open('cities.txt', 'r')\n",
    "cities\n",
    "cities_lines = cities.readlines()\n",
    "cities_lines\n"
   ]
  },
  {
   "cell_type": "code",
   "execution_count": 33,
   "metadata": {},
   "outputs": [
    {
     "name": "stdout",
     "output_type": "stream",
     "text": [
      "['Beijing', 'Cairo', 'London', 'Nairobi', 'New York City', 'Sydney', 'Tokyo']\n"
     ]
    }
   ],
   "source": [
    "# [ ] remove the last character, \"\\n\", of each cities_lines list item \n",
    "count = 0\n",
    "\n",
    "for line in cities_lines:\n",
    "    cities_lines[count] = line[:-1]\n",
    "    count += 1\n",
    "\n",
    "    \n",
    "print(cities_lines)"
   ]
  },
  {
   "cell_type": "code",
   "execution_count": 34,
   "metadata": {},
   "outputs": [
    {
     "name": "stdout",
     "output_type": "stream",
     "text": [
      "Beijing\n",
      "Cairo\n",
      "London\n",
      "Nairobi\n",
      "New York City\n",
      "Sydney\n",
      "Tokyo\n"
     ]
    }
   ],
   "source": [
    "# [ ] print each list item in cities_lines\n",
    "for line in cities_lines:\n",
    "    print(line)\n",
    "    \n",
    "    \n",
    "    "
   ]
  },
  {
   "cell_type": "markdown",
   "metadata": {},
   "source": [
    "# &nbsp;\n",
    "<font size=\"6\" color=\"#00A0B2\"  face=\"verdana\"> <B>Concepts</B></font>  \n",
    "\n",
    "## `.close()`\n",
    "[![view video](https://iajupyterprodblobs.blob.core.windows.net/imagecontainer/common/play_video.png)]( http://edxinteractivepage.blob.core.windows.net/edxpages/f7cff1a7-5601-48a1-95a6-fd1fdfabd20e.html?details=[{\"src\":\"http://jupyternootbookwams.streaming.mediaservices.windows.net/50a925e8-25e2-4bfa-936b-e2d181af36f0/Unit2_Section4.2c-File_Close_Method.ism/manifest\",\"type\":\"application/vnd.ms-sstr+xml\"}],[{\"src\":\"http://jupyternootbookwams.streaming.mediaservices.windows.net/50a925e8-25e2-4bfa-936b-e2d181af36f0/Unit2_Section4.2c-File_Close_Method.vtt\",\"srclang\":\"en\",\"kind\":\"subtitles\",\"label\":\"english\"}])\n",
    "### File .close() method frees resources \n",
    "flie.close() method removes the reference created from file open() function \n",
    "\n",
    "```python  \n",
    "poem1.close()\n",
    "```  "
   ]
  },
  {
   "cell_type": "markdown",
   "metadata": {},
   "source": [
    "# &nbsp;\n",
    "<font size=\"6\" color=\"#00A0B2\"  face=\"verdana\"> <B>Examples</B></font>  \n",
    "This example assumes that poem1.txt has been imported in 1st example above"
   ]
  },
  {
   "cell_type": "code",
   "execution_count": 35,
   "metadata": {},
   "outputs": [],
   "source": [
    "# [ ] review and run example: open and readlines of poem1.txt\n",
    "poem1 = open('poem1.txt', 'r')"
   ]
  },
  {
   "cell_type": "code",
   "execution_count": 36,
   "metadata": {},
   "outputs": [
    {
     "name": "stdout",
     "output_type": "stream",
     "text": [
      "['Loops I repeat\\n', 'loops\\n', 'loops\\n', 'loops\\n', 'I repeat\\n', 'until I\\n', 'break\\n']\n"
     ]
    }
   ],
   "source": [
    "# [ ] review and run example: readlines breaks if file is no longer open\n",
    "\n",
    "poem_lines = poem1.readlines()\n",
    "print(poem_lines)"
   ]
  },
  {
   "cell_type": "code",
   "execution_count": 37,
   "metadata": {},
   "outputs": [],
   "source": [
    "# [ ] review and run example: Close poem1\n",
    "poem1.close()\n"
   ]
  },
  {
   "cell_type": "markdown",
   "metadata": {
    "collapsed": true
   },
   "source": [
    "# &nbsp;\n",
    "<font size=\"6\" color=\"#B24C00\"  face=\"verdana\"> <B>Task 3</B></font>  \n",
    "## File .close() \n",
    "write each item in it's own cell  \n",
    "- open cities.txt as cities_file  \n",
    "- read the lines as cities_lines\n",
    "- print the cities that **start with the letter \"D\" or greater**  \n",
    "- close cities_file\n",
    "- test that file is closed"
   ]
  },
  {
   "cell_type": "code",
   "execution_count": 52,
   "metadata": {},
   "outputs": [
    {
     "data": {
      "text/plain": [
       "<_io.TextIOWrapper name='cities.txt' mode='r' encoding='UTF-8'>"
      ]
     },
     "execution_count": 52,
     "metadata": {},
     "output_type": "execute_result"
    }
   ],
   "source": [
    "# [ ] open cities.txt as cities_file\n",
    "cities = open('cities.txt', 'r')\n",
    "cities\n"
   ]
  },
  {
   "cell_type": "code",
   "execution_count": 53,
   "metadata": {},
   "outputs": [
    {
     "data": {
      "text/plain": [
       "['Beijing\\n',\n",
       " 'Cairo\\n',\n",
       " 'London\\n',\n",
       " 'Nairobi\\n',\n",
       " 'New York City\\n',\n",
       " 'Sydney\\n',\n",
       " 'Tokyo\\n']"
      ]
     },
     "execution_count": 53,
     "metadata": {},
     "output_type": "execute_result"
    }
   ],
   "source": [
    "# [ ] read the lines as cities_lines\n",
    "cities_lines = cities.readlines()\n",
    "cities_lines\n"
   ]
  },
  {
   "cell_type": "code",
   "execution_count": 49,
   "metadata": {},
   "outputs": [
    {
     "name": "stdout",
     "output_type": "stream",
     "text": [
      "['London\\n', 'Nairobi\\n', 'New York City\\n', 'Sydney\\n', 'Tokyo\\n']\n"
     ]
    }
   ],
   "source": [
    "# [ ] print the cities that start with the letter \"D\" or greater\n",
    "\n",
    "d_cities = []\n",
    "\n",
    "for city in cities_lines:\n",
    "    if city[0] >= 'D':\n",
    "        d_cities.append(city)\n",
    "print(d_cities)\n"
   ]
  },
  {
   "cell_type": "code",
   "execution_count": 54,
   "metadata": {},
   "outputs": [
    {
     "ename": "ValueError",
     "evalue": "I/O operation on closed file.",
     "output_type": "error",
     "traceback": [
      "\u001b[0;31m---------------------------------------------------------------------------\u001b[0m",
      "\u001b[0;31mValueError\u001b[0m                                Traceback (most recent call last)",
      "\u001b[0;32m<ipython-input-54-afda4f41b2fb>\u001b[0m in \u001b[0;36m<module>\u001b[0;34m\u001b[0m\n\u001b[1;32m      3\u001b[0m \u001b[0mcities\u001b[0m\u001b[0;34m.\u001b[0m\u001b[0mclose\u001b[0m\u001b[0;34m(\u001b[0m\u001b[0;34m)\u001b[0m\u001b[0;34m\u001b[0m\u001b[0;34m\u001b[0m\u001b[0m\n\u001b[1;32m      4\u001b[0m \u001b[0;34m\u001b[0m\u001b[0m\n\u001b[0;32m----> 5\u001b[0;31m \u001b[0mcities_lines\u001b[0m \u001b[0;34m=\u001b[0m \u001b[0mcities\u001b[0m\u001b[0;34m.\u001b[0m\u001b[0mreadlines\u001b[0m\u001b[0;34m(\u001b[0m\u001b[0;34m)\u001b[0m\u001b[0;34m\u001b[0m\u001b[0;34m\u001b[0m\u001b[0m\n\u001b[0m\u001b[1;32m      6\u001b[0m \u001b[0mcities_lines\u001b[0m\u001b[0;34m\u001b[0m\u001b[0;34m\u001b[0m\u001b[0m\n",
      "\u001b[0;31mValueError\u001b[0m: I/O operation on closed file."
     ]
    }
   ],
   "source": [
    "# [ ] test that file is closed\n",
    "\n",
    "cities.close()\n",
    "\n",
    "cities_lines = cities.readlines()\n",
    "cities_lines"
   ]
  },
  {
   "cell_type": "code",
   "execution_count": 56,
   "metadata": {},
   "outputs": [],
   "source": [
    "# [ ] close cities_file\n",
    "\n",
    "cities.close()"
   ]
  },
  {
   "cell_type": "markdown",
   "metadata": {
    "collapsed": true
   },
   "source": [
    "# &nbsp;\n",
    "<font size=\"6\" color=\"#B24C00\"  face=\"verdana\"> <B>Task 4</B></font>  \n",
    "## readlines() poem2  \n",
    "write each item in its own cell  \n",
    "- import https://raw.githubusercontent.com/MicrosoftLearning/intropython/master/poem2.txt as poem2.txt  \n",
    "- open poem2.txt as poem2_file in read mode\n",
    "- create a list of strings, called poem2_lines, from each line of poem2_text (use **.readlines()**)  \n",
    "- remove the newline character for each list item in poem2_lines  \n",
    "- print the poem2 lines in reverse order  "
   ]
  },
  {
   "cell_type": "code",
   "execution_count": 74,
   "metadata": {},
   "outputs": [
    {
     "name": "stdout",
     "output_type": "stream",
     "text": [
      "  % Total    % Received % Xferd  Average Speed   Time    Time     Time  Current\n",
      "                                 Dload  Upload   Total   Spent    Left  Speed\n",
      "100    57  100    57    0     0    218      0 --:--:-- --:--:-- --:--:--   219\n"
     ]
    }
   ],
   "source": [
    "# [ ] import https://raw.githubusercontent.com/MicrosoftLearning/intropython/master/poem2.txt as poem2.txt\n",
    "!curl https://raw.githubusercontent.com/MicrosoftLearning/intropython/master/poem2.txt -o poem2.txt\n"
   ]
  },
  {
   "cell_type": "code",
   "execution_count": 86,
   "metadata": {},
   "outputs": [
    {
     "data": {
      "text/plain": [
       "<_io.TextIOWrapper name='poem2.txt' mode='r' encoding='UTF-8'>"
      ]
     },
     "execution_count": 86,
     "metadata": {},
     "output_type": "execute_result"
    }
   ],
   "source": [
    "# [ ] open poem2.txt as poem2_text in read mode\n",
    "poem2_text = open(\"poem2.txt\", \"r\")\n",
    "poem2_text"
   ]
  },
  {
   "cell_type": "code",
   "execution_count": 87,
   "metadata": {},
   "outputs": [
    {
     "name": "stdout",
     "output_type": "stream",
     "text": [
      "while True\n",
      "\n",
      "I loop\n",
      "\n",
      "True\n",
      "\n",
      "loop\n",
      "\n",
      "True\n",
      "\n",
      "loop\n",
      "\n",
      "not True\n",
      "\n",
      "False\n",
      "\n",
      "end\n",
      "\n"
     ]
    }
   ],
   "source": [
    "# [ ] create a list of strings, called poem2_lines, from each line of poem2_text\n",
    "poem2 = poem2_text.readlines()\n",
    "\n",
    "for poem in poem2:\n",
    "    print(poem)\n"
   ]
  },
  {
   "cell_type": "code",
   "execution_count": 89,
   "metadata": {},
   "outputs": [
    {
     "name": "stdout",
     "output_type": "stream",
     "text": [
      "['while Tru', 'I loo', 'Tru', 'loo', 'Tru', 'loo', 'not Tru', 'Fals', 'en']\n"
     ]
    }
   ],
   "source": [
    "# [ ] remove the newline character for each list item in poem2_lines\n",
    "\n",
    "count = 0\n",
    "\n",
    "for line in poem2:\n",
    "    poem2[count] = line[:-1]\n",
    "    count += 1\n",
    "    \n",
    "print(poem2)\n",
    "    "
   ]
  },
  {
   "cell_type": "code",
   "execution_count": 95,
   "metadata": {},
   "outputs": [
    {
     "name": "stdout",
     "output_type": "stream",
     "text": [
      "while Tru\n",
      "I loo\n",
      "Tru\n",
      "loo\n",
      "Tru\n",
      "loo\n",
      "not Tru\n",
      "Fals\n",
      "en\n"
     ]
    }
   ],
   "source": [
    "# [ ] print the poem2 lines in reverse order\n",
    "for poem in reversed(poem2):\n",
    "    print(poem)\n"
   ]
  },
  {
   "cell_type": "markdown",
   "metadata": {},
   "source": [
    "[Terms of use](http://go.microsoft.com/fwlink/?LinkID=206977) &nbsp; [Privacy & cookies](https://go.microsoft.com/fwlink/?LinkId=521839) &nbsp; © 2017 Microsoft"
   ]
  }
 ],
 "metadata": {
  "anaconda-cloud": {},
  "kernelspec": {
   "display_name": "Python 3",
   "language": "python",
   "name": "python3"
  },
  "language_info": {
   "codemirror_mode": {
    "name": "ipython",
    "version": 3
   },
   "file_extension": ".py",
   "mimetype": "text/x-python",
   "name": "python",
   "nbconvert_exporter": "python",
   "pygments_lexer": "ipython3",
   "version": "3.7.6"
  }
 },
 "nbformat": 4,
 "nbformat_minor": 1
}
