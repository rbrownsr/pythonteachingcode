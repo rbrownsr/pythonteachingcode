{
 "cells": [
  {
   "cell_type": "markdown",
   "metadata": {},
   "source": [
    "# 2-1 Intro Python Practice\n",
    "## Sequence: String\n",
    "\n",
    "<font size=\"5\" color=\"#00A0B2\"  face=\"verdana\"> <B>Student will be able to</B></font>  \n",
    "- Work with String Characters\n",
    "- Slice strings into substrings\n",
    "- Iterate through String Characters\n",
    "- Use String ~~Tricks~~ Methods"
   ]
  },
  {
   "cell_type": "markdown",
   "metadata": {},
   "source": [
    "# &nbsp;\n",
    "<font size=\"6\" color=\"#B24C00\"  face=\"verdana\"> <B>Task 1</B></font>\n",
    "##  Access String Characters \n",
    "### `working_string[index]`\n"
   ]
  },
  {
   "cell_type": "code",
   "execution_count": 9,
   "metadata": {},
   "outputs": [
    {
     "name": "stdout",
     "output_type": "stream",
     "text": [
      "u\n"
     ]
    }
   ],
   "source": [
    "# [ ] access and print the second character from planet_name: \"u\"\n",
    "planet_name = \"Jupiter\"\n",
    "print(planet_name[1])"
   ]
  },
  {
   "cell_type": "code",
   "execution_count": 10,
   "metadata": {},
   "outputs": [
    {
     "name": "stdout",
     "output_type": "stream",
     "text": [
      "J\n"
     ]
    }
   ],
   "source": [
    "# [ ] access and print the first character from planet_name: \"J\"\n",
    "planet_name = \"Jupiter\"\n",
    "print(planet_name[0])\n"
   ]
  },
  {
   "cell_type": "code",
   "execution_count": 13,
   "metadata": {},
   "outputs": [
    {
     "name": "stdout",
     "output_type": "stream",
     "text": [
      "J \n",
      "r\n"
     ]
    }
   ],
   "source": [
    "# [ ] access and print the first and last characters from planet_name\n",
    "planet_name = \"Jupiter\"\n",
    "print(planet_name[0],'\\n' + planet_name[6])\n"
   ]
  },
  {
   "cell_type": "code",
   "execution_count": 16,
   "metadata": {},
   "outputs": [
    {
     "name": "stdout",
     "output_type": "stream",
     "text": [
      "J\n"
     ]
    }
   ],
   "source": [
    "# [ ] using a negative index access and print the first character from planet_name: \"J\"\n",
    "planet_name = \"Jupiter\"\n",
    "\n",
    "print(planet_name[0::-1])"
   ]
  },
  {
   "cell_type": "markdown",
   "metadata": {},
   "source": [
    "# &nbsp;\n",
    "<font size=\"6\" color=\"#B24C00\"  face=\"verdana\"> <B>Task 2</B></font>\n",
    "## slice\n",
    "### `working_string[start:stop]`\n",
    "### `working_string[start:stop:step]`"
   ]
  },
  {
   "cell_type": "code",
   "execution_count": 23,
   "metadata": {},
   "outputs": [
    {
     "name": "stdout",
     "output_type": "stream",
     "text": [
      "Nep\n",
      "tun\n",
      "e\n"
     ]
    }
   ],
   "source": [
    "# [ ] print planet_name sliced into the first 3 characters and remaining characters\n",
    "planet_name = \"Neptune\"\n",
    "\n",
    "print(planet_name[:3])\n",
    "print(planet_name[3:6]) \n",
    "print(planet_name[6:7])"
   ]
  },
  {
   "cell_type": "code",
   "execution_count": 25,
   "metadata": {},
   "outputs": [
    {
     "name": "stdout",
     "output_type": "stream",
     "text": [
      "I may be finally understanding Python\n"
     ]
    }
   ],
   "source": [
    "# [ ] print 1st char and then every 3rd char of wise_words\n",
    "# use string slice with a step\n",
    "wise_words = 'Play it who opens'\n",
    "print(\"I may be finally understanding\", wise_words[0::3])\n"
   ]
  },
  {
   "cell_type": "code",
   "execution_count": 26,
   "metadata": {},
   "outputs": [
    {
     "name": "stdout",
     "output_type": "stream",
     "text": [
      "enutpeN\n"
     ]
    }
   ],
   "source": [
    "# [ ] print planet_name in reverse\n",
    "print(planet_name[::-1])\n"
   ]
  },
  {
   "cell_type": "markdown",
   "metadata": {
    "collapsed": true
   },
   "source": [
    "# &nbsp;\n",
    "<font size=\"6\" color=\"#B24C00\"  face=\"verdana\"> <B>Task 3</B></font>\n",
    "\n",
    "## iterate a String\n",
    "### `for letter in sentence:`"
   ]
  },
  {
   "cell_type": "code",
   "execution_count": 27,
   "metadata": {},
   "outputs": [
    {
     "name": "stdout",
     "output_type": "stream",
     "text": [
      "Enter favorite food: Pizza\n",
      "P\n",
      "i\n",
      "z\n",
      "z\n",
      "a\n"
     ]
    }
   ],
   "source": [
    "# [ ] Get user input for 1 fav_food\n",
    "# [ ] iterate through letters in fav_food \n",
    "#    - print each letter on a new line\n",
    "\n",
    "fav_food = input('Enter favorite food: ')\n",
    "\n",
    "for fav in fav_food:\n",
    "    print(fav)\n",
    "\n"
   ]
  },
  {
   "cell_type": "code",
   "execution_count": 46,
   "metadata": {},
   "outputs": [
    {
     "name": "stdout",
     "output_type": "stream",
     "text": [
      "G\n",
      "o\n",
      "o\n",
      "d\n",
      "-\n",
      "c\n",
      "o\n",
      "d\n",
      "e\n",
      "-\n",
      "i\n",
      "s\n",
      "-\n",
      "c\n",
      "o\n",
      "m\n",
      "m\n",
      "e\n",
      "n\n",
      "t\n",
      "e\n",
      "d\n",
      "-\n",
      "c\n",
      "o\n",
      "d\n",
      "e\n",
      "Good a code a is a commented a code\n"
     ]
    }
   ],
   "source": [
    "# [ ] iterate work_tip string concatenate each letter to variable: new_string \n",
    "# [ ] concatenate the letter or a \"-\" instead of a space \" \"\n",
    "# tip: concatenate string example: word = word + \"a\"\n",
    "work_tip = \"Good code is commented code\"\n",
    "\n",
    "for new in work_tip:\n",
    "    print(new.replace(\" \",\"-\"))\n",
    "\n",
    "\n",
    "new_string = \" \"\n",
    "for na in work_tip:\n",
    "    if na == \" \":\n",
    "        new_string = work_tip.replace(\" \",\"-\")\n",
    "    else:\n",
    "        new_string = work_tip.replace(\" \", \" a \")\n",
    "print(new_string)\n"
   ]
  },
  {
   "cell_type": "code",
   "execution_count": 47,
   "metadata": {},
   "outputs": [
    {
     "name": "stdout",
     "output_type": "stream",
     "text": [
      "Hiro\n"
     ]
    }
   ],
   "source": [
    "# [ ] Print the first 4 letters of name on new line\n",
    "name = \"Hiroto\"\n",
    "print(name[:4])\n"
   ]
  },
  {
   "cell_type": "code",
   "execution_count": 49,
   "metadata": {},
   "outputs": [
    {
     "name": "stdout",
     "output_type": "stream",
     "text": [
      "ioo\n"
     ]
    }
   ],
   "source": [
    "# [ ] Print every other letter from 2nd to last letter of name \n",
    "name = \"Hiroto\"\n",
    "print(name[1::2])\n"
   ]
  },
  {
   "cell_type": "markdown",
   "metadata": {},
   "source": [
    "# &nbsp;\n",
    "<font size=\"6\" color=\"#B24C00\"  face=\"verdana\"> <B>Task 4</B></font>\n",
    "\n",
    "## Program: Mystery Name\n",
    "- get user input for first_name\n",
    "- create an empty string variable: new_name\n",
    "- iterate through letters in first_name Backwards \n",
    "  - add each letter to new_name as you iterate\n",
    "  - Replace the letter if \"e\", \"t\" or \"a\" with \"?\" *(hint: if, elif, elif, else)*\n",
    "- print new_name  \n",
    "\n",
    "**example: \"Alton\" = \"no?l?\"**"
   ]
  },
  {
   "cell_type": "code",
   "execution_count": 66,
   "metadata": {},
   "outputs": [
    {
     "name": "stdout",
     "output_type": "stream",
     "text": [
      "enter first name: Alton\n",
      "no?l?\n"
     ]
    }
   ],
   "source": [
    "# [ ] Create Mystery Name\n",
    "new_name = \"\"\n",
    "\n",
    "first_name = input(\"enter first name: \")\n",
    "\n",
    "for b in first_name[::-1]:\n",
    "    if b.lower() == \"e\" or b.lower() == \"t\" or b.lower() == \"a\":\n",
    "        new_name += \"?\"\n",
    "    else:\n",
    "        new_name += b\n",
    "\n",
    "print(new_name)\n"
   ]
  },
  {
   "cell_type": "markdown",
   "metadata": {},
   "source": [
    "# &nbsp;\n",
    "<font size=\"6\" color=\"#B24C00\"  face=\"verdana\"> <B>Task 4</B></font>\n",
    "## `len(), .find(), .count()`   \n",
    "\n",
    "```  \n",
    "- len(working_string)\n",
    "- .find(\"i\")\n",
    "- .find(\"i\",start)\n",
    "- .find(\"i\", start, end)\n",
    "- .count(\"i\")\n",
    "- .count(\"i\", start)\n",
    "- .count(\"i\", start, end)\n",
    "```   "
   ]
  },
  {
   "cell_type": "code",
   "execution_count": 67,
   "metadata": {},
   "outputs": [
    {
     "name": "stdout",
     "output_type": "stream",
     "text": [
      "36\n"
     ]
    }
   ],
   "source": [
    "# [ ] find and display the length of the string: topic\n",
    "topic = \"len() returns the length of a string\"\n",
    "print(len(topic))\n"
   ]
  },
  {
   "cell_type": "code",
   "execution_count": 77,
   "metadata": {},
   "outputs": [
    {
     "name": "stdout",
     "output_type": "stream",
     "text": [
      "56\n",
      "like a string, as an argument\n",
      "len() can take a sequence, \n"
     ]
    }
   ],
   "source": [
    "# [ ] use len() to find and display the mid_pt (middle) index (+/- 1) of the string: topic\n",
    "# note: index values are whole numbers\n",
    "topic = \"len() can take a sequence, like a string, as an argument\"\n",
    "\n",
    "print(len(topic))\n",
    "mid_pt = int(len(topic)/2)\n",
    "print(topic[mid_pt - 1:]) \n",
    "print(topic[:mid_pt - 1]) \n"
   ]
  },
  {
   "cell_type": "code",
   "execution_count": 78,
   "metadata": {},
   "outputs": [
    {
     "name": "stdout",
     "output_type": "stream",
     "text": [
      "5\n"
     ]
    }
   ],
   "source": [
    "# [ ] print index where first instance of the word  \"code\" starts using .find()\n",
    "work_tip = \"Good code is commented code\"\n",
    "\n",
    "print(work_tip.find('code'))"
   ]
  },
  {
   "cell_type": "code",
   "execution_count": 83,
   "metadata": {},
   "outputs": [
    {
     "name": "stdout",
     "output_type": "stream",
     "text": [
      "5\n",
      "commented code\n"
     ]
    }
   ],
   "source": [
    "# [ ] search for \"code\" in code_tip using .find() \n",
    "# [ ] search substring with substring index start= 13,end = last char \n",
    "# [ ] save result in variable: code_index\n",
    "# [ ] display index of where \"code\" is found, or print \"not found\" if code_index == -1\n",
    "work_tip = \"Good code is commented code\"\n",
    "code_tip = work_tip.find('code')\n",
    "code_index = work_tip[13:]\n",
    "print(code_tip)\n",
    "\n",
    "if code_index == -1:\n",
    "    print('\"not found\"')\n",
    "else:\n",
    "    print(code_index)\n"
   ]
  },
  {
   "cell_type": "markdown",
   "metadata": {
    "collapsed": true
   },
   "source": [
    "# &nbsp;\n",
    "<font size=\"6\" color=\"#B24C00\"  face=\"verdana\"> <B>Task 5</B></font>"
   ]
  },
  {
   "cell_type": "code",
   "execution_count": 85,
   "metadata": {},
   "outputs": [
    {
     "name": "stdout",
     "output_type": "stream",
     "text": [
      "0\n",
      "5\n",
      "2\n"
     ]
    }
   ],
   "source": [
    "# [ ] find and report (print) number of w's, o's + use of word \"code\"\n",
    "work_tip = \"Good code is commented code\"\n",
    "\n",
    "print(work_tip.count('w'))\n",
    "print(work_tip.count('o'))\n",
    "print(work_tip.count('code'))"
   ]
  },
  {
   "cell_type": "code",
   "execution_count": 8,
   "metadata": {},
   "outputs": [
    {
     "name": "stdout",
     "output_type": "stream",
     "text": [
      "code_tip: code a conditional decision like you would say it\n",
      "'i' at index = 11\n",
      "'i' at index = 13\n",
      "'i' at index = 22\n",
      "'i' at index = 24\n",
      "'i' at index = 29\n",
      "'i' at index = 47\n",
      "No Match\n"
     ]
    }
   ],
   "source": [
    "# [ ]  count times letter \"i\" appears in code_tip string\n",
    "# [ ] find and display the index of all the letter i's in code_tip\n",
    "# Remember: if .find(\"i\") has No Match, -1 is returned\n",
    "code_tip = \"code a conditional decision like you would say it\"\n",
    "print (\"code_tip:\" , code_tip)\n",
    "i_local = code_tip.find('i')\n",
    "\n",
    "while i_local >= 0:\n",
    "    print(\"'i' at index =\", i_local)\n",
    "    i_local = code_tip.find(\"i\", i_local + 1)\n",
    "print(\"No Match\")\n"
   ]
  },
  {
   "cell_type": "markdown",
   "metadata": {},
   "source": [
    "# &nbsp;\n",
    "<font size=\"6\" color=\"#B24C00\"  face=\"verdana\"> <B>Task 6</B></font>\n",
    "\n",
    "## Program: Words after \"G\"/\"g\"\n",
    "Create a program inputs a phrase (like a famous quotation) and prints all of the words that start with h-z\n",
    "\n",
    "Sample input:  \n",
    "`enter a 1 sentence quote, non-alpha separate words:` **`Wheresoever you go, go with all your heart`**  \n",
    "\n",
    "Sample output:\n",
    "```\n",
    "WHERESOEVER\n",
    "YOU\n",
    "WITH\n",
    "YOUR\n",
    "HEART\n",
    "```\n",
    "- split the words by building a placeholder variable: **`word`**  \n",
    "  - loop each character in the input string  \n",
    "  - check if character is a letter  \n",
    "  - add a letter to **`word`** each loop until a non-alpha char is encountered  \n",
    "\n",
    "- **if** character is alpha \n",
    "  - add character to **`word`**    \n",
    "  - non-alpha detected (space, punctuation, digit,...) defines the end of a word and goes to **`else`**    \n",
    "- **`else`**  \n",
    "  - check **`if`** word is greater than \"g\" alphabetically\n",
    "      - print word \n",
    "      - set word = empty string\n",
    "  - or **else** \n",
    "    - set word = empty string and build the next word  \n",
    "\n",
    "Hint: use `.lower()`"
   ]
  },
  {
   "cell_type": "code",
   "execution_count": 10,
   "metadata": {},
   "outputs": [
    {
     "name": "stdout",
     "output_type": "stream",
     "text": [
      "WHERESOEVER\n",
      "YOU\n",
      "WITH\n",
      "YOUR\n",
      "HEART\n"
     ]
    }
   ],
   "source": [
    "# [] create words after \"G\"\n",
    "# sample quote \"Wheresoever you go, go with all your heart\" ~ Confucius (551 BC - 479 BC)\n",
    "quote = 'Wheresoever you go, go with all your heart.'\n",
    "word = ''\n",
    "\n",
    "for b in quote:\n",
    "    if b.isalpha():\n",
    "        word += b\n",
    "    elif word.lower() >= 'h':\n",
    "        print(word.upper())\n",
    "        word = ''\n",
    "    else:\n",
    "        word = ''\n",
    "    \n"
   ]
  },
  {
   "cell_type": "markdown",
   "metadata": {
    "collapsed": true
   },
   "source": [
    "[Terms of use](http://go.microsoft.com/fwlink/?LinkID=206977) &nbsp; [Privacy & cookies](https://go.microsoft.com/fwlink/?LinkId=521839) &nbsp; © 2017 Microsoft"
   ]
  }
 ],
 "metadata": {
  "anaconda-cloud": {},
  "kernelspec": {
   "display_name": "Python 3",
   "language": "python",
   "name": "python3"
  },
  "language_info": {
   "codemirror_mode": {
    "name": "ipython",
    "version": 3
   },
   "file_extension": ".py",
   "mimetype": "text/x-python",
   "name": "python",
   "nbconvert_exporter": "python",
   "pygments_lexer": "ipython3",
   "version": "3.7.6"
  }
 },
 "nbformat": 4,
 "nbformat_minor": 1
}
