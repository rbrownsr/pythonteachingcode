{
 "cells": [
  {
   "cell_type": "markdown",
   "metadata": {},
   "source": [
    "# 1-6.2 Intro Python Practice\n",
    "## Nested Conditionals\n",
    "<font size=\"5\" color=\"#00A0B2\"  face=\"verdana\"> <B>Student will be able to</B></font>\n",
    "- create nested conditional logic in code  \n",
    "- print format print using escape sequence (**\\**)"
   ]
  },
  {
   "cell_type": "markdown",
   "metadata": {},
   "source": [
    "# &nbsp;\n",
    "<font size=\"6\" color=\"#B24C00\"  face=\"verdana\"> <B>Tasks</B></font>  "
   ]
  },
  {
   "cell_type": "code",
   "execution_count": 1,
   "metadata": {},
   "outputs": [
    {
     "name": "stdout",
     "output_type": "stream",
     "text": [
      "The new line character is \"\\n\n"
     ]
    }
   ],
   "source": [
    "# [ ] print a string that outputs the following exactly: The new line character is \"\\n\"\n",
    "\n",
    "print (\"The new line character is \\\"\\\\n\")"
   ]
  },
  {
   "cell_type": "code",
   "execution_count": 2,
   "metadata": {},
   "outputs": [
    {
     "name": "stdout",
     "output_type": "stream",
     "text": [
      "\"That's how we escape!\"\n"
     ]
    }
   ],
   "source": [
    "# [ ] print output that is exactly (with quotes): \"That's how we escape!\"\n",
    "print(\"\\\"That\\'s how we escape!\\\"\")\n"
   ]
  },
  {
   "cell_type": "code",
   "execution_count": 6,
   "metadata": {},
   "outputs": [
    {
     "name": "stdout",
     "output_type": "stream",
     "text": [
      "# 1\tone\n",
      "# 22\ttwo\n",
      "# 333\tthree\n"
     ]
    }
   ],
   "source": [
    "# [ ] with only 1 print statement and using No Space Characters, output the text commented below  \n",
    "\n",
    "# 1       one\n",
    "# 22      two\n",
    "# 333     three\n",
    "print(\"# 1\\tone\\n# 22\\ttwo\\n# 333\\tthree\")\n"
   ]
  },
  {
   "cell_type": "markdown",
   "metadata": {},
   "source": [
    "# &nbsp;\n",
    "## Program: quote_me() Function\n",
    "quote_me takes a string argument and returns a string that will display surrounded with **added double quotes** if printed  \n",
    "- check if passed string starts with a double quote (`\"\\\"\"`), then surround string with single quotations \n",
    "- if the passed string starts with single quote, or if doesn't start with a quotation mark, then surround with double quotations  \n",
    "\n",
    "Test the function code passing string input as the argument to quote_me() "
   ]
  },
  {
   "cell_type": "code",
   "execution_count": 1,
   "metadata": {},
   "outputs": [
    {
     "name": "stdout",
     "output_type": "stream",
     "text": [
      "Enter your favorite quote: Today was a good day!\n",
      "\"Today was a good day!\"\n"
     ]
    }
   ],
   "source": [
    "# [ ] create and test quote_me()\n",
    "\n",
    "def quote_me(quote):\n",
    "    if quote.startswith(\"\\\"\") and quote.endswith(\"\\\"\"):\n",
    "        quote = quote.replace(\"\\\"\", \"\\'\")\n",
    "        return quote\n",
    "    elif quote.startswith(\"\\'\") and quote.endswith(\"\\'\"):\n",
    "        quote = quote.replace(\"\\'\", \"\\\"\")\n",
    "        return quote\n",
    "    else:\n",
    "        quote = (\"\\\"\" + quote + \"\\\"\")\n",
    "        return quote\n",
    "        \n",
    "\n",
    "print(quote_me(input(\"Enter your favorite quote: \")))"
   ]
  },
  {
   "cell_type": "markdown",
   "metadata": {},
   "source": [
    "# &nbsp;\n",
    "### Program: shirt order \n",
    "First get input for color and size  \n",
    "- White has sizes L, M \n",
    "- Blue has sizes M, S  \n",
    "\n",
    "print available or unavailable, then  \n",
    "print the order confirmation of color and size  \n",
    "\n",
    "*\n",
    "**hint**: set a variable \"available = False\" before nested if statements and  \n",
    "change to True if color and size are avaliable*"
   ]
  },
  {
   "cell_type": "code",
   "execution_count": 8,
   "metadata": {},
   "outputs": [
    {
     "name": "stdout",
     "output_type": "stream",
     "text": [
      "Please select a shirt color:\n",
      "\"W\" for White or \"B\" for Blue: b\n",
      "Select size\n",
      "\"M\" for Medium or \"S\" for Small: l\n",
      "\n",
      "Sorry, we do not have that size in blue.\n",
      "\n"
     ]
    }
   ],
   "source": [
    "# [ ] create shirt order using nested if \n",
    "\n",
    "\n",
    "\n",
    "print('Please select a shirt color:')\n",
    "shirt_col = input('\"W\" for White or \"B\" for Blue: ')\n",
    "\n",
    "\n",
    "\n",
    "\n",
    "if shirt_col.lower() == \"w\":\n",
    "    print('Select size')\n",
    "    shirt_sz = input('\"L\" for Large or \"M\" for Medium: ')\n",
    "    print()\n",
    "    \n",
    "    if shirt_sz.lower() == \"l\":\n",
    "        print ('Here is your large white shirt.')\n",
    "        \n",
    "    elif shirt_sz.lower() == \"m\":\n",
    "        print('Here is your medium white shirt.')\n",
    "    else:\n",
    "        print('Sorry we do not have that size in white.')\n",
    "        \n",
    "                     \n",
    "elif shirt_col.lower() == \"b\":\n",
    "    print ('Select size')\n",
    "    shirt_sz = input('\"M\" for Medium or \"S\" for Small: ')\n",
    "    print()\n",
    "            \n",
    "    if shirt_sz.lower() == \"m\":\n",
    "        print('Here is your medium blue shirt.')\n",
    "    elif shirt_sz.lower() == \"s\":\n",
    "        print('Here is your small blue shirt.')\n",
    "    else:\n",
    "        print('Sorry, we do not have that size in blue.')\n",
    "\n",
    "else:\n",
    "    print ('Sorry, we only have white and blue available.')\n",
    "print()\n",
    "                     "
   ]
  },
  {
   "cell_type": "markdown",
   "metadata": {},
   "source": [
    "# &nbsp;\n",
    "## Program: str_analysis() Function\n",
    "Create the str_analysis() function that takes a string argument.  In the body of the function:\n",
    "- Check `if` string is digits  \n",
    "  - if digits: convert to `int` and check `if` greater than 99  \n",
    "    - if greater than 99, print a message about a \"big number\"  \n",
    "    - if not greater than 99, print message about \"small number\"    \n",
    "  - if not digits: check if string isalpha\n",
    "    - if isalpha print message about being all alpha\n",
    "    - if not isalpha print a message about being neither all alpha nor all digit  \n",
    "    \n",
    "call the function with a string from user input "
   ]
  },
  {
   "cell_type": "code",
   "execution_count": 96,
   "metadata": {},
   "outputs": [
    {
     "name": "stdout",
     "output_type": "stream",
     "text": [
      "enter a number 0 -2000 or a word: 678\n",
      "678  is a big number.\n",
      "None\n"
     ]
    }
   ],
   "source": [
    "# [ ] create and test str_analysis()\n",
    "\n",
    "def str_analysis():\n",
    "    while True:\n",
    "        anal = input(\"enter a number 0 - 2000 or a word: \")\n",
    "        if anal.isdigit() and int(anal) > 99:\n",
    "            print(anal, \" is a big number.\")\n",
    "        elif anal.isdigit() and int(anal) <= 99:\n",
    "            print(anal, ' is a small number.')\n",
    "        elif anal.isalpha():\n",
    "            print(anal, \"is alpha\")\n",
    "        else:\n",
    "            print(anal, \"is not a digit or alpha\")\n",
    "        break\n",
    "           \n",
    "analysis = str_analysis()\n",
    "print(analysis)\n"
   ]
  },
  {
   "cell_type": "markdown",
   "metadata": {
    "collapsed": true
   },
   "source": [
    "# &nbsp;  \n",
    "### Program: ticket_check() - finds out if a seat is available  \n",
    "Call ticket_check() function with 2 arguments: *section* and *seats* requested and return True or False  \n",
    "- **section** is a string and expects: general, floor\n",
    "- **seats** is an integer and expects: 1 - 10  \n",
    "\n",
    "Check for valid section and seats\n",
    "- if section is *general* (or use startswith \"g\")  \n",
    "  - if seats is 1-10 return True \n",
    "- if section is *floor* (or use starts with \"f\")\n",
    "  - if seats is 1-4 return True  \n",
    "\n",
    "otherwise return False"
   ]
  },
  {
   "cell_type": "code",
   "execution_count": 92,
   "metadata": {},
   "outputs": [
    {
     "name": "stdout",
     "output_type": "stream",
     "text": [
      "enter 'g' for general or enter 'f' for floor: G\n",
      "enter '1 -10 for general seating' or '1-4' for floor seating: 8\n"
     ]
    },
    {
     "data": {
      "text/plain": [
       "False"
      ]
     },
     "execution_count": 92,
     "metadata": {},
     "output_type": "execute_result"
    }
   ],
   "source": [
    "# [ ] create and call ticket_check()\n",
    "section = \"general or floor\"\n",
    "seats = 1 - 10\n",
    "\n",
    "def ticket_check(section, seats):\n",
    "    section = input(\"enter 'g' for general or enter 'f' for floor: \")\n",
    "    seats = input(\"enter '1 -10 for general seating' or '1-4' for floor seating: \")\n",
    "    if section.lower().startswith('g') == \"general\":\n",
    "        if int(seats) <= 10:\n",
    "            return True\n",
    "    \n",
    "    if section.lower().startswith('f') == \"floor\":\n",
    "        if int(seats) <= 4:\n",
    "            return True\n",
    "    else:\n",
    "        return False\n",
    "    \n",
    "ticket_check(section,seats)"
   ]
  },
  {
   "cell_type": "markdown",
   "metadata": {
    "collapsed": true
   },
   "source": [
    "[Terms of use](http://go.microsoft.com/fwlink/?LinkID=206977) &nbsp; [Privacy & cookies](https://go.microsoft.com/fwlink/?LinkId=521839) &nbsp; © 2017 Microsoft"
   ]
  }
 ],
 "metadata": {
  "anaconda-cloud": {},
  "kernelspec": {
   "display_name": "Python 3",
   "language": "python",
   "name": "python3"
  },
  "language_info": {
   "codemirror_mode": {
    "name": "ipython",
    "version": 3
   },
   "file_extension": ".py",
   "mimetype": "text/x-python",
   "name": "python",
   "nbconvert_exporter": "python",
   "pygments_lexer": "ipython3",
   "version": "3.7.6"
  }
 },
 "nbformat": 4,
 "nbformat_minor": 1
}
