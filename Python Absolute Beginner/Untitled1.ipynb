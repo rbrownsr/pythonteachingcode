{
 "cells": [
  {
   "cell_type": "code",
   "execution_count": 1,
   "metadata": {},
   "outputs": [
    {
     "name": "stdout",
     "output_type": "stream",
     "text": [
      "Enter an integer or 'Quit': 3\n",
      "Enter an integer or 'Quit': 6\n",
      "Enter an integer or 'Quit': 24\n",
      "Enter an integer or 'Quit': 17\n",
      "Enter an integer or 'Quit': 61\n",
      "Enter an integer or 'Quit': nine\n",
      "nine input is invalid\n",
      "Enter an integer or 'Quit': q\n",
      "3\n",
      "6\n",
      "24\n",
      "17\n",
      "61\n",
      "Total: \n",
      "111\n"
     ]
    }
   ],
   "source": [
    "## [ ] create, call and test the adding_report() function\n",
    "\n",
    "\n",
    "def adding_report(rep_type):\n",
    "    total = 0\n",
    "    items = []\n",
    "    while True:\n",
    "        gather = input(\"Enter an integer or 'Quit': \")\n",
    "        if gather.isdigit():\n",
    "            total +=int(gather)\n",
    "            if(rep_type == \"A\"):\n",
    "                items.append(gather)\n",
    "        elif gather.lower().startswith('q'):\n",
    "            break\n",
    "        else:\n",
    "            print(gather + ' input is invalid')\n",
    "            \n",
    "    if rep_type == \"A\":\n",
    "        for i in items:\n",
    "            print(i)\n",
    "    return(\"Total: \\n\" + str(total))\n",
    "\n",
    "print (adding_report('A'))\n"
   ]
  }
 ],
 "metadata": {
  "kernelspec": {
   "display_name": "Python 3",
   "language": "python",
   "name": "python3"
  },
  "language_info": {
   "codemirror_mode": {
    "name": "ipython",
    "version": 3
   },
   "file_extension": ".py",
   "mimetype": "text/x-python",
   "name": "python",
   "nbconvert_exporter": "python",
   "pygments_lexer": "ipython3",
   "version": "3.7.6"
  }
 },
 "nbformat": 4,
 "nbformat_minor": 4
}
