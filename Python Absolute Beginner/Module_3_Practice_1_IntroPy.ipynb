{
 "cells": [
  {
   "cell_type": "markdown",
   "metadata": {},
   "source": [
    "# 1-4.3 Intro Python Practice\n",
    "## Conditionals \n",
    "<font size=\"5\" color=\"#00A0B2\"  face=\"verdana\"> <B>Student will be able to</B></font>  \n",
    "- **control code flow with `if`... `else` conditional logic**  \n",
    "  - using Boolean string methods (`.isupper(), .isalpha(), .startswith()...`)  \n",
    "  - using comparision (`>, <, >=, <=, ==, !=`)  \n",
    "  - using Strings in comparisons  "
   ]
  },
  {
   "cell_type": "markdown",
   "metadata": {},
   "source": [
    "## `if else`\n"
   ]
  },
  {
   "cell_type": "code",
   "execution_count": 4,
   "metadata": {},
   "outputs": [
    {
     "name": "stdout",
     "output_type": "stream",
     "text": [
      "Enter current age 12\n",
      "You will be an adult in 10 years\n"
     ]
    }
   ],
   "source": [
    "# [ ] input avariable: age as digit and cast to int\n",
    "# if age greater than or equal to 12 then print message on age in 10 years \n",
    "# or else print message \"It is good to be\" age\n",
    "current_age = input ('Enter current age ')\n",
    "\n",
    "if current_age >= ('12'):\n",
    "    print ('You will be an adult in 10 years')\n",
    "else:\n",
    "    print ('It is good to be ', current_age)\n",
    "\n",
    "\n",
    "\n"
   ]
  },
  {
   "cell_type": "code",
   "execution_count": 4,
   "metadata": {},
   "outputs": [
    {
     "name": "stdout",
     "output_type": "stream",
     "text": [
      "Enter a number 2.2\n"
     ]
    },
    {
     "ename": "ValueError",
     "evalue": "invalid literal for int() with base 10: '2.2'",
     "output_type": "error",
     "traceback": [
      "\u001b[0;31m---------------------------------------------------------------------------\u001b[0m",
      "\u001b[0;31mValueError\u001b[0m                                Traceback (most recent call last)",
      "\u001b[0;32m<ipython-input-4-ded84a98ccfd>\u001b[0m in \u001b[0;36m<module>\u001b[0;34m\u001b[0m\n\u001b[1;32m      8\u001b[0m \u001b[0;34m\u001b[0m\u001b[0m\n\u001b[1;32m      9\u001b[0m \u001b[0;34m\u001b[0m\u001b[0m\n\u001b[0;32m---> 10\u001b[0;31m \u001b[0;32mif\u001b[0m \u001b[0mint\u001b[0m\u001b[0;34m(\u001b[0m\u001b[0mx\u001b[0m\u001b[0;34m)\u001b[0m \u001b[0;34m>\u001b[0m \u001b[0my\u001b[0m\u001b[0;34m:\u001b[0m\u001b[0;34m\u001b[0m\u001b[0;34m\u001b[0m\u001b[0m\n\u001b[0m\u001b[1;32m     11\u001b[0m     \u001b[0mprint\u001b[0m\u001b[0;34m(\u001b[0m\u001b[0;34m\"x is greater than 100 is \"\u001b[0m\u001b[0;34m,\u001b[0m\u001b[0mint\u001b[0m\u001b[0;34m(\u001b[0m\u001b[0mx\u001b[0m\u001b[0;34m)\u001b[0m \u001b[0;34m>\u001b[0m \u001b[0my\u001b[0m\u001b[0;34m)\u001b[0m\u001b[0;34m\u001b[0m\u001b[0;34m\u001b[0m\u001b[0m\n\u001b[1;32m     12\u001b[0m \u001b[0;34m\u001b[0m\u001b[0m\n",
      "\u001b[0;31mValueError\u001b[0m: invalid literal for int() with base 10: '2.2'"
     ]
    }
   ],
   "source": [
    "# [ ] input a number \n",
    "# if number IS a digit string then cast to int\n",
    "# print number \"greater than 100 is\" True/False\n",
    "# if number is NOT a digit string then message the user that \"only int is accepted\"\n",
    "\n",
    "y = 100\n",
    "x = input ('Enter a number ')\n",
    "\n",
    "\n",
    "if int(x) > y:\n",
    "    print(\"x is greater than 100 is \",int(x) > y)\n",
    "\n",
    "else:\n",
    "    print('x is greater than 100 is ', int(x) > y)\n",
    "\n",
    "if x.notdigit():\n",
    "    print ('only int is accepted')\n",
    "\n",
    "\n"
   ]
  },
  {
   "cell_type": "markdown",
   "metadata": {},
   "source": [
    "### Guessing a letter A-Z  \n",
    "**check_guess()** takes 2 string arguments: **letter and guess** (both expect single alphabetical character)   \n",
    "    - if guess is not an alpha character print invalid and return False\n",
    "    - test and print if guess is \"high\" or \"low\" and return False\n",
    "    - test and print if guess is \"correct\" and return True"
   ]
  },
  {
   "cell_type": "code",
   "execution_count": 3,
   "metadata": {},
   "outputs": [
    {
     "name": "stdout",
     "output_type": "stream",
     "text": [
      "Guess a letter: r\n",
      "correct \n",
      "True\n"
     ]
    }
   ],
   "source": [
    "# [ ] create check_guess()   \n",
    "# call with test\n",
    "\n",
    "letter = 'R'\n",
    "guess = input ('Guess a letter: ')\n",
    "\n",
    "def check_guess (letter, guess):\n",
    "    if guess.isalpha() == True:\n",
    "        if guess.lower() > letter.lower():\n",
    "            print('high ')\n",
    "            return False\n",
    "        elif guess.lower() < letter.lower():\n",
    "            print('low ')\n",
    "            return False\n",
    "        elif guess.lower() == letter.lower():\n",
    "            print('correct ')\n",
    "            return True\n",
    "    else:\n",
    "        print ('Invalid')\n",
    "        return False\n",
    "print (check_guess (letter, guess))\n",
    "\n",
    "\n"
   ]
  },
  {
   "cell_type": "code",
   "execution_count": null,
   "metadata": {
    "collapsed": true
   },
   "outputs": [],
   "source": [
    "# [ ] call check_guess with user input\n",
    "\n"
   ]
  },
  {
   "cell_type": "markdown",
   "metadata": {},
   "source": [
    "### Letter Guess\n",
    "**create letter_guess() function that gives user 3 guesses**\n",
    "- takes a letter character argument for the answer letter\n",
    "- gets user input for letter guess  \n",
    "- calls check_guess() with answer and guess\n",
    "- End letter_guess if \n",
    "    - check_guess() equals True, return True  \n",
    "    - or after 3 failed attempts, return False"
   ]
  },
  {
   "cell_type": "code",
   "execution_count": 14,
   "metadata": {},
   "outputs": [
    {
     "name": "stdout",
     "output_type": "stream",
     "text": [
      "Enter your guess h\n",
      "Try again\n",
      "Enter your guess j\n",
      "Try again\n",
      "Enter your guess b\n",
      "Correct\n",
      "Correct!\n",
      "Good Job!\n",
      "Done!\n"
     ]
    }
   ],
   "source": [
    "# [ ] create letter_guess() function, call the function to test\n",
    "letter = 'B'\n",
    "tries = 3\n",
    "\n",
    "def check_guess (guess, letter):\n",
    "    if not guess.isalpha():\n",
    "        print ('Invalid')\n",
    "        return False\n",
    "    if letter == guess.upper():\n",
    "        print (\"Correct\")\n",
    "        return True\n",
    "\n",
    "    elif letter < guess.upper():\n",
    "        print (\"Try again\")\n",
    "        return False\n",
    "    \n",
    "    elif letter > guess.upper():\n",
    "        print (\"Try again\")\n",
    "        return False \n",
    "\n",
    "def letter_guess():\n",
    "    for i in range(tries):\n",
    "        guess = input (\"Enter your guess \")\n",
    "        res = check_guess (guess, letter)\n",
    "        if res:\n",
    "            print (\"Correct!\")\n",
    "            return True\n",
    "    return False\n",
    "\n",
    "result = letter_guess()\n",
    "if result:\n",
    "    print (\"Good Job!\")\n",
    "else:\n",
    "    print (\"The answer was \",letter)\n",
    "print (\"Done!\")\n",
    "\n"
   ]
  },
  {
   "cell_type": "markdown",
   "metadata": {},
   "source": [
    "### Pet Conversation\n",
    "**ask the user for a sentence about a pet and then reply**  \n",
    "- get user input in variable: about_pet\n",
    "- using a series of **if** statements respond with appropriate conversation\n",
    "  - check if \"dog\" is in the string about_pet (sample reply \"Ah, a dog\")\n",
    "  - check if \"cat\" is in the string about_pet\n",
    "  - check if 1 or more animal is in string about_pet\n",
    "- no need for **else**'s\n",
    "- finish with thanking for the story"
   ]
  },
  {
   "cell_type": "code",
   "execution_count": 24,
   "metadata": {},
   "outputs": [
    {
     "name": "stdout",
     "output_type": "stream",
     "text": [
      "Tell me about your pet?  bird and a goldfish\n",
      "Ah, there is one or more pets\n",
      "Thank you for your story\n"
     ]
    }
   ],
   "source": [
    "# [ ] complete pet conversation\n",
    "about_pet = input(\"Tell me about your pet?  \")\n",
    "\n",
    "if ('dog' in about_pet.lower()) == True:\n",
    "    print (\"Ah, a dog\")\n",
    "if('cat' in about_pet.lower()) == True:\n",
    "    print (\"Ah, a cat\")\n",
    "if ('and' in about_pet.lower()) == True: \n",
    "    print (\"Ah, there is one or more pets\")\n",
    "\n",
    "print(\"Thank you for your story\")\n"
   ]
  },
  {
   "cell_type": "markdown",
   "metadata": {
    "collapsed": true
   },
   "source": [
    "[Terms of use](http://go.microsoft.com/fwlink/?LinkID=206977) &nbsp; [Privacy & cookies](https://go.microsoft.com/fwlink/?LinkId=521839) &nbsp; © 2017 Microsoft"
   ]
  }
 ],
 "metadata": {
  "anaconda-cloud": {},
  "kernelspec": {
   "display_name": "Python 3",
   "language": "python",
   "name": "python3"
  },
  "language_info": {
   "codemirror_mode": {
    "name": "ipython",
    "version": 3
   },
   "file_extension": ".py",
   "mimetype": "text/x-python",
   "name": "python",
   "nbconvert_exporter": "python",
   "pygments_lexer": "ipython3",
   "version": "3.7.6"
  }
 },
 "nbformat": 4,
 "nbformat_minor": 1
}
