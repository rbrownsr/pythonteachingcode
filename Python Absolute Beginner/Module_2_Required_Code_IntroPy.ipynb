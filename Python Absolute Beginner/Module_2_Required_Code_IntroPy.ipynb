{
 "cells": [
  {
   "cell_type": "markdown",
   "metadata": {
    "collapsed": true
   },
   "source": [
    "#  Module 2 Required Coding Activity  \n",
    "Introduction to Python Unit 1  \n",
    "\n",
    "This is an activity based on code similar to the Jupyter Notebook **`Practice_MOD02_1-3_IntroPy.ipynb`** which you may have completed.\n",
    "\n",
    "| Some Assignment Requirements |  \n",
    "|:-------------------------------|  \n",
    "| **NOTE:** This program requires a **function** be defined, created and called. The call will send values based on user input.  The function call must capture a `return` value that is used in print output.  The function will have parameters and `return` a string and should otherwise use code syntax covered in module 2.  |  \n",
    " \n",
    "## Program: fishstore()\n",
    "create and test fishstore()\n",
    "- **fishstore() takes 2 string arguments: fish & price**\n",
    "- **fishstore returns a string in sentence form**  \n",
    "- **gather input for fish_entry and price_entry to use in calling fishstore()**\n",
    "- **print the return value of fishstore()**\n",
    ">example of output: **`Fish Type: Guppy costs $1`**"
   ]
  },
  {
   "cell_type": "code",
   "execution_count": 2,
   "metadata": {},
   "outputs": [
    {
     "name": "stdout",
     "output_type": "stream",
     "text": [
      "Enter type of fish: guppy\n",
      "Enter price of fish: $1\n",
      "Fish Type: Guppy costs $1\n"
     ]
    }
   ],
   "source": [
    "# [ ] create, call and test fishstore() function \n",
    "def fishstore (fish, price):\n",
    "    return ('Fish Type: ' + fish.title() + ' '+ 'costs ' + price)\n",
    "\n",
    "fish_entry = input ('Enter type of fish: ')\n",
    "price_entry = input ('Enter price of fish: ')\n",
    "\n",
    "print (fishstore(fish_entry, price_entry))\n"
   ]
  },
  {
   "cell_type": "markdown",
   "metadata": {},
   "source": [
    "Submit this by creating a python file (.py) and submitting it in D2L. Be sure to test that it works."
   ]
  }
 ],
 "metadata": {
  "kernelspec": {
   "display_name": "Python 3",
   "language": "python",
   "name": "python3"
  },
  "language_info": {
   "codemirror_mode": {
    "name": "ipython",
    "version": 3
   },
   "file_extension": ".py",
   "mimetype": "text/x-python",
   "name": "python",
   "nbconvert_exporter": "python",
   "pygments_lexer": "ipython3",
   "version": "3.7.6"
  }
 },
 "nbformat": 4,
 "nbformat_minor": 1
}
