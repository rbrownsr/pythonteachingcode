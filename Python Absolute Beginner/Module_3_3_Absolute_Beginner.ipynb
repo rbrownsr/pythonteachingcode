{
 "cells": [
  {
   "cell_type": "markdown",
   "metadata": {},
   "source": [
    "# 1-4.3 Intro Python\n",
    "## Conditionals \n",
    "- **`if`, `else`, `pass`**\n",
    "  - Conditionals using Boolean String Methods\n",
    "  - Comparison operators\n",
    "  - **String comparisons**\n",
    "\n",
    "----- \n",
    "\n",
    "><font size=\"5\" color=\"#00A0B2\"  face=\"verdana\"> <B>Student will be able to</B></font>  \n",
    "- **control code flow with `if`... `else` conditional logic**  \n",
    "  - using Boolean string methods (`.isupper(), .isalpha(), startswith()...`)  \n",
    "  - using comparison (`>, <, >=, <=, ==, !=`)  \n",
    "  - **using Strings in comparisons**  "
   ]
  },
  {
   "cell_type": "markdown",
   "metadata": {},
   "source": [
    "# &nbsp;\n",
    "<font size=\"6\" color=\"#00A0B2\"  face=\"verdana\"> <B>Concept</B></font>\n",
    "## String Comparisons\n",
    "- ### Strings can be equal `==` or unequal `!=`\n",
    "- ### Strings can be greater than `>` or less than `<` \n",
    "- ### alphabetically `\"A\"` is less than `\"B\"`\n",
    "- ### lower case `\"a\"` is greater than upper case `\"A\"`"
   ]
  },
  {
   "cell_type": "markdown",
   "metadata": {},
   "source": [
    "# &nbsp;\n",
    "<font size=\"6\" color=\"#00A0B2\"  face=\"verdana\"> <B>Examples</B></font>"
   ]
  },
  {
   "cell_type": "code",
   "execution_count": 2,
   "metadata": {},
   "outputs": [
    {
     "data": {
      "text/plain": [
       "False"
      ]
     },
     "execution_count": 2,
     "metadata": {},
     "output_type": "execute_result"
    }
   ],
   "source": [
    "# review and run code\n",
    "\"hello\" < \"Hello\""
   ]
  },
  {
   "cell_type": "code",
   "execution_count": 3,
   "metadata": {},
   "outputs": [
    {
     "data": {
      "text/plain": [
       "False"
      ]
     },
     "execution_count": 3,
     "metadata": {},
     "output_type": "execute_result"
    }
   ],
   "source": [
    "# review and run code\n",
    "\"Aardvark\" > \"Zebra\""
   ]
  },
  {
   "cell_type": "code",
   "execution_count": 4,
   "metadata": {},
   "outputs": [
    {
     "data": {
      "text/plain": [
       "True"
      ]
     },
     "execution_count": 4,
     "metadata": {},
     "output_type": "execute_result"
    }
   ],
   "source": [
    "# review and run code\n",
    "'student' != 'Student'"
   ]
  },
  {
   "cell_type": "code",
   "execution_count": 21,
   "metadata": {},
   "outputs": [
    {
     "name": "stdout",
     "output_type": "stream",
     "text": [
      "'student' >= 'Student' is True\n",
      "'student' != 'Student' is True\n"
     ]
    }
   ],
   "source": [
    "# review and run code\n",
    "print(\"'student' >= 'Student' is\", 'student' >= 'Student')\n",
    "print(\"'student' != 'Student' is\", 'student' != 'Student')"
   ]
  },
  {
   "cell_type": "code",
   "execution_count": 22,
   "metadata": {},
   "outputs": [
    {
     "data": {
      "text/plain": [
       "True"
      ]
     },
     "execution_count": 22,
     "metadata": {},
     "output_type": "execute_result"
    }
   ],
   "source": [
    "# review and run code\n",
    "\"Hello \" + \"World!\" == \"Hello World!\""
   ]
  },
  {
   "cell_type": "markdown",
   "metadata": {},
   "source": [
    "# &nbsp;\n",
    "<font size=\"6\" color=\"#B24C00\"  face=\"verdana\"> <B>Task 1</B></font>\n",
    "## String Comparisons"
   ]
  },
  {
   "cell_type": "code",
   "execution_count": 47,
   "metadata": {},
   "outputs": [
    {
     "name": "stdout",
     "output_type": "stream",
     "text": [
      "msg = 'Hello' is  True\n"
     ]
    }
   ],
   "source": [
    "\n",
    "# [ ] print the True/False results of testing if msg string equals \"Hello\" string\n",
    "msg = 'Hello'\n",
    "\n",
    "if msg:\n",
    "    print(\"msg = 'Hello' is \", msg == 'Hello')\n",
    "else:\n",
    "    print(\"msg = 'Hello' is \", msg != 'Hello')\n",
    "    "
   ]
  },
  {
   "cell_type": "code",
   "execution_count": 53,
   "metadata": {},
   "outputs": [
    {
     "name": "stdout",
     "output_type": "stream",
     "text": [
      "Say 'Hello': hello\n",
      "msg = 'Hello' is  False\n"
     ]
    }
   ],
   "source": [
    "greeting = \"Hello\"\n",
    "# [ ] get input for variable named msg, and ask user to 'Say \"Hello\"'\n",
    "# [ ] print the results of testing if msg string equals greeting string\n",
    "\n",
    "msg = input(\"Say 'Hello': \")\n",
    "\n",
    "if msg:\n",
    "    print(\"msg = 'Hello' is \", msg == greeting)\n",
    "else:\n",
    "    print(\"msg = 'Hello' is \", msg != greeting)\n",
    "    "
   ]
  },
  {
   "cell_type": "markdown",
   "metadata": {},
   "source": [
    "# &nbsp;\n",
    "<font size=\"6\" color=\"#00A0B2\"  face=\"verdana\"> <B>Concept</B></font>\n",
    "## Conditionals: String comparisons with `if`\n",
    "[![view video](https://iajupyterprodblobs.blob.core.windows.net/imagecontainer/common/play_video.png)]( http://edxinteractivepage.blob.core.windows.net/edxpages/f7cff1a7-5601-48a1-95a6-fd1fdfabd20e.html?details=[{\"src\":\"http://jupyternootbookwams.streaming.mediaservices.windows.net/d66365b5-03fa-4d0d-a455-5adba8b8fb1b/Unit1_Section4.3-string-compare-if.ism/manifest\",\"type\":\"application/vnd.ms-sstr+xml\"}],[{\"src\":\"http://jupyternootbookwams.streaming.mediaservices.windows.net/d66365b5-03fa-4d0d-a455-5adba8b8fb1b/Unit1_Section4.3-string-compare-if.vtt\",\"srclang\":\"en\",\"kind\":\"subtitles\",\"label\":\"english\"}])\n"
   ]
  },
  {
   "cell_type": "markdown",
   "metadata": {},
   "source": [
    "# &nbsp;\n",
    "<font size=\"6\" color=\"#00A0B2\"  face=\"verdana\"> <B>Examples</B></font>"
   ]
  },
  {
   "cell_type": "code",
   "execution_count": 55,
   "metadata": {},
   "outputs": [
    {
     "name": "stdout",
     "output_type": "stream",
     "text": [
      "message as expected\n"
     ]
    }
   ],
   "source": [
    "# [ ] review and run code\n",
    "msg = \"Save the notebook\"\n",
    "\n",
    "if msg.lower() == \"save the notebook\":\n",
    "    print(\"message as expected\")\n",
    "else:\n",
    "    print(\"message not as expected\")"
   ]
  },
  {
   "cell_type": "code",
   "execution_count": 56,
   "metadata": {},
   "outputs": [
    {
     "name": "stdout",
     "output_type": "stream",
     "text": [
      "message not as expected\n"
     ]
    }
   ],
   "source": [
    "# [ ] review and run code\n",
    "msg = \"Save the notebook\"\n",
    "prediction = \"save the notebook\"\n",
    "\n",
    "if msg.lower() == prediction.lower():\n",
    "    print(\"message as expected\")\n",
    "else:\n",
    "    print(\"message not as expected\")"
   ]
  },
  {
   "cell_type": "markdown",
   "metadata": {},
   "source": [
    "# &nbsp;\n",
    "<font size=\"6\" color=\"#B24C00\"  face=\"verdana\"> <B>Task 2</B></font>\n",
    "## Conditionals: comparison operators with if\n"
   ]
  },
  {
   "cell_type": "code",
   "execution_count": 76,
   "metadata": {},
   "outputs": [
    {
     "name": "stdout",
     "output_type": "stream",
     "text": [
      "What is 8 + 13?: 21\n",
      "Yes, the correct answer is  21\n"
     ]
    }
   ],
   "source": [
    "# [ ] get input for a variable, answer, and ask user 'What is 8 + 13? : '\n",
    "ans1 = input ('What is 8 + 13?: ')\n",
    "ans2 = '21'\n",
    "\n",
    "if ans1 == ans2:\n",
    "    print (\"Yes, the correct answer is \", 8 + 13)\n",
    "else:\n",
    "    print('No, the correct answer is ', 8 + 13)\n",
    "    \n",
    "# [ ] print messages for correct answer \"21\" or incorrect answer using if/else\n",
    "# note: input returns a \"string\"\n",
    "\n"
   ]
  },
  {
   "cell_type": "markdown",
   "metadata": {
    "collapsed": true
   },
   "source": [
    "# &nbsp;  \n",
    "<font size=\"6\" color=\"#B24C00\"  face=\"verdana\"> <B>Task 3</B></font>  \n",
    "## Program: True False Quiz Function\n",
    "Call the tf_quiz function with 2 arguments\n",
    "- T/F question string \n",
    "- answer key string like \"T\"  \n",
    "\n",
    "Return a string: \"correct\" or incorrect\"\n",
    "[![view video](https://iajupyterprodblobs.blob.core.windows.net/imagecontainer/common/play_video.png)]( http://edxinteractivepage.blob.core.windows.net/edxpages/f7cff1a7-5601-48a1-95a6-fd1fdfabd20e.html?details=[{\"src\":\"http://jupyternootbookwams.streaming.mediaservices.windows.net/3805cc48-f5c9-4ec8-86ad-1e1db45788e4/Unit1_Section4.3-TF-quiz.ism/manifest\",\"type\":\"application/vnd.ms-sstr+xml\"}],[{\"src\":\"http://jupyternootbookwams.streaming.mediaservices.windows.net/3805cc48-f5c9-4ec8-86ad-1e1db45788e4/Unit1_Section4.3-TF-quiz.vtt\",\"srclang\":\"en\",\"kind\":\"subtitles\",\"label\":\"english\"}])\n",
    "### Define and use `tf_quiz()` function  \n",
    "- **`tf_quiz()`** has **2 parameters** which are both string arguments  \n",
    "  - **`question`**: a string containg a T/F question like \"Should save your notebook after edit?(T/F): \"  \n",
    "  - **`correct_ans`**: a string indicating the *correct answer*, either **\"T\"** or **\"F\"** \n",
    "- **`tf_quiz()`** returns a string:  \"correct\" or \"incorrect\"\n",
    "- Test tf_quiz(): **create a T/F question** (*or several!*) to **call tf_quiz()**  \n"
   ]
  },
  {
   "cell_type": "code",
   "execution_count": 120,
   "metadata": {},
   "outputs": [
    {
     "name": "stdout",
     "output_type": "stream",
     "text": [
      "Should save your notebook after edit?(T/F): f\n",
      "Sorry, you should save your notebook after edit is  True\n"
     ]
    },
    {
     "data": {
      "text/plain": [
       "'incorrect'"
      ]
     },
     "execution_count": 120,
     "metadata": {},
     "output_type": "execute_result"
    }
   ],
   "source": [
    "# [ ] Create the program, run tests\n",
    "question = input('Should save your notebook after edit?(T/F): ')\n",
    "\n",
    "correct_ans = \"T\"\n",
    "\n",
    "def tf_quiz(question, correct_ans):\n",
    "    if question.upper() == correct_ans:\n",
    "        print('Should save your notebook after edit is ', question.lower() == correct_ans.lower())\n",
    "        return (\"correct\")\n",
    "    else:\n",
    "        print('Sorry, you should save your notebook after edit is ', question.lower() != correct_ans.lower())\n",
    "        return (\"incorrect\")\n",
    "\n",
    "tf_quiz(question, correct_ans)"
   ]
  },
  {
   "cell_type": "markdown",
   "metadata": {},
   "source": [
    "[Terms of use](http://go.microsoft.com/fwlink/?LinkID=206977) &nbsp; [Privacy & cookies](https://go.microsoft.com/fwlink/?LinkId=521839) &nbsp; © 2017 Microsoft"
   ]
  }
 ],
 "metadata": {
  "anaconda-cloud": {},
  "kernelspec": {
   "display_name": "Python 3",
   "language": "python",
   "name": "python3"
  },
  "language_info": {
   "codemirror_mode": {
    "name": "ipython",
    "version": 3
   },
   "file_extension": ".py",
   "mimetype": "text/x-python",
   "name": "python",
   "nbconvert_exporter": "python",
   "pygments_lexer": "ipython3",
   "version": "3.7.6"
  }
 },
 "nbformat": 4,
 "nbformat_minor": 1
}
